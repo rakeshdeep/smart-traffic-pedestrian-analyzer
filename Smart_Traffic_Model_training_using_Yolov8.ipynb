{
 "cells": [
  {
   "cell_type": "markdown",
   "metadata": {
    "id": "SQJtf4kIMiwB"
   },
   "source": [
    "# Smart Traffic Pedestrain using YOLOv8"
   ]
  },
  {
   "cell_type": "markdown",
   "metadata": {},
   "source": [
    "## Model Training Script"
   ]
  },
  {
   "cell_type": "code",
   "execution_count": null,
   "metadata": {
    "colab": {
     "base_uri": "https://localhost:8080/"
    },
    "collapsed": true,
    "executionInfo": {
     "elapsed": 99906,
     "status": "ok",
     "timestamp": 1746171531646,
     "user": {
      "displayName": "Rakesh Deep",
      "userId": "12751343561059786856"
     },
     "user_tz": -330
    },
    "id": "YvQqkO8f657H",
    "outputId": "5aa2428d-178f-493a-87cf-60cbf9307fe8"
   },
   "outputs": [],
   "source": [
    "# install requirements\n",
    "!pip install ultralytics roboflow"
   ]
  },
  {
   "cell_type": "code",
   "execution_count": null,
   "metadata": {
    "colab": {
     "base_uri": "https://localhost:8080/"
    },
    "collapsed": true,
    "executionInfo": {
     "elapsed": 4445,
     "status": "ok",
     "timestamp": 1746171566337,
     "user": {
      "displayName": "Rakesh Deep",
      "userId": "12751343561059786856"
     },
     "user_tz": -330
    },
    "id": "7zo5ts1l7XDv",
    "outputId": "accf29d4-1cfc-4649-b589-c16ca36eccf6"
   },
   "outputs": [],
   "source": [
    "from ultralytics import YOLO\n",
    "import os\n",
    "from IPython.display import display, Image\n",
    "from IPython import display\n",
    "display.clear_output()\n",
    "!yolo checks"
   ]
  },
  {
   "cell_type": "code",
   "execution_count": null,
   "metadata": {
    "colab": {
     "base_uri": "https://localhost:8080/"
    },
    "executionInfo": {
     "elapsed": 14969,
     "status": "ok",
     "timestamp": 1746171605423,
     "user": {
      "displayName": "Rakesh Deep",
      "userId": "12751343561059786856"
     },
     "user_tz": -330
    },
    "id": "nfcXDHTk72BT",
    "outputId": "1bcde405-33e9-4573-de9d-e985a0f52cf3"
   },
   "outputs": [],
   "source": [
    "# Mounting with Roboflow dataset\n",
    "# Get this from your Roboflow project\n",
    "from roboflow import Roboflow\n",
    "rf = Roboflow(api_key=\"your-roboflow-api-key\")\n",
    "project = rf.workspace(\"bigproject-flow\").project(\"smart-traffic-lights\")\n",
    "version = project.version(1)\n",
    "dataset = version.download(\"yolov8\")\n"
   ]
  },
  {
   "cell_type": "code",
   "execution_count": null,
   "metadata": {
    "colab": {
     "base_uri": "https://localhost:8080/"
    },
    "id": "QySL_rGZ8HZG",
    "outputId": "8208aa72-6bf8-414d-b6ab-367338ca7118"
   },
   "outputs": [],
   "source": [
    "# Training a pretrain model i.e. yolov8m.pt\n",
    "!yolo task=detect mode=train model=yolov8m.pt data={dataset.location}/data.yaml epochs=100 imgsz=640"
   ]
  },
  {
   "cell_type": "code",
   "execution_count": null,
   "metadata": {
    "colab": {
     "base_uri": "https://localhost:8080/",
     "height": 467
    },
    "executionInfo": {
     "elapsed": 5450,
     "status": "ok",
     "timestamp": 1746174430154,
     "user": {
      "displayName": "Rakesh Deep",
      "userId": "12751343561059786856"
     },
     "user_tz": -330
    },
    "id": "X0_4oHE78K5L",
    "outputId": "ab4bf35f-0e88-47cf-c84d-7dc2be58bb31"
   },
   "outputs": [],
   "source": [
    "# Confusion matrix result\n",
    "Image(filename='runs/detect/train/confusion_matrix.png', width=600)"
   ]
  },
  {
   "cell_type": "code",
   "execution_count": null,
   "metadata": {
    "colab": {
     "base_uri": "https://localhost:8080/",
     "height": 317
    },
    "executionInfo": {
     "elapsed": 5495,
     "status": "ok",
     "timestamp": 1746174501394,
     "user": {
      "displayName": "Rakesh Deep",
      "userId": "12751343561059786856"
     },
     "user_tz": -330
    },
    "id": "flMO4bLl8Oo3",
    "outputId": "fd975be9-1f90-4358-b62d-2ee100b425d7"
   },
   "outputs": [],
   "source": [
    "# train result\n",
    "Image(filename='runs/detect/train/results.png', width=600)"
   ]
  }
 ],
 "metadata": {
  "accelerator": "GPU",
  "colab": {
   "authorship_tag": "ABX9TyN3Z3SxNBAHR7oi40GimpBh",
   "gpuType": "T4",
   "mount_file_id": "10uyihlLriisRcLMdbAWemShLDw3ZotOt",
   "provenance": []
  },
  "kernelspec": {
   "display_name": "Python 3",
   "name": "python3"
  },
  "language_info": {
   "name": "python"
  }
 },
 "nbformat": 4,
 "nbformat_minor": 0
}
